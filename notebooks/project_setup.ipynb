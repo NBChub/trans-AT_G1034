{
 "cells": [
  {
   "cell_type": "code",
   "execution_count": null,
   "id": "9dd31023-41c1-45e2-a6fc-5bcd27203a56",
   "metadata": {},
   "outputs": [],
   "source": [
    "import pandas as pd\n",
    "import yaml\n",
    "from pathlib import Path"
   ]
  },
  {
   "cell_type": "code",
   "execution_count": null,
   "id": "35bb9a27-9d18-4810-a396-9f94d70aaff1",
   "metadata": {},
   "outputs": [],
   "source": [
    "projects = {}\n",
    "input_dir = Path(\"../data/region_gbks_v2/known_molecule_bgcs/\")\n",
    "project_name = [i.name for i in input_dir.glob(\"*\") if i.is_dir()]\n",
    "for p in project_name:\n",
    "    original_project_name = p\n",
    "    p = p.replace(\" \", \"_\")\n",
    "    project_dir = input_dir / original_project_name\n",
    "    gbks = [g.stem for g in project_dir.glob(\"clinker/input/*.gbk\")]\n",
    "    print(original_project_name, p, len(gbks))\n",
    "    values = {}\n",
    "    for num, bgc in enumerate(gbks):\n",
    "        gbk_path = project_dir / f\"clinker/input/{bgc}.gbk\"\n",
    "        source = \"bgcflow\"\n",
    "        if bgc.startswith(\"BGC\"):\n",
    "            bgc = bgc.split(\"_\")[0]\n",
    "            source = \"MIBIG\"\n",
    "        assert gbk_path.is_file(), gbk_path\n",
    "        values[num] = {\"bgc_id\" : bgc,\n",
    "                      \"gbk_path\" : str(gbk_path.relative_to(\"..\")),\n",
    "                      \"genome_id\" : \"unknown\",\n",
    "                      \"source\" : source}\n",
    "    projects[p] = values\n",
    "\n",
    "for project_selected in projects.keys():\n",
    "    #project_selected = '9-methylstreptimidone'\n",
    "    df = pd.DataFrame.from_dict(projects[project_selected]).T\n",
    "    outdir = Path(f\"../config/{project_selected}\")\n",
    "    outdir.mkdir(parents=True, exist_ok=True)\n",
    "    df.to_csv(outdir / \"samples.csv\", index=False)\n",
    "\n",
    "    project_config = {'name': project_selected,\n",
    "                      'pep_version': '2.1.0',\n",
    "                      'description': f'A selection of BGCs producing {project_selected}',\n",
    "                      'sample_table': 'samples.csv',\n",
    "                      'rules': {'bigslice': False,\n",
    "                                'bigscape': False,\n",
    "                                'query-bigslice': False,\n",
    "                                'clinker': True,\n",
    "                                'interproscan': False,\n",
    "                                'mmseqs2': True}\n",
    "                     }\n",
    "    # Write data to a YAML file\n",
    "    with open(outdir / 'project_config.yaml', 'w') as yaml_file:\n",
    "        yaml.dump(project_config, yaml_file, default_flow_style=False)\n",
    "\n",
    "    print(f\"  - pep: config/{project_selected}/project_config.yaml\")"
   ]
  },
  {
   "cell_type": "code",
   "execution_count": null,
   "id": "ef3dca50-934a-4d1d-8e2d-193e056506a6",
   "metadata": {},
   "outputs": [],
   "source": []
  }
 ],
 "metadata": {
  "kernelspec": {
   "display_name": "Python 3 (ipykernel)",
   "language": "python",
   "name": "python3"
  },
  "language_info": {
   "codemirror_mode": {
    "name": "ipython",
    "version": 3
   },
   "file_extension": ".py",
   "mimetype": "text/x-python",
   "name": "python",
   "nbconvert_exporter": "python",
   "pygments_lexer": "ipython3",
   "version": "3.9.18"
  }
 },
 "nbformat": 4,
 "nbformat_minor": 5
}
