{
 "cells": [
  {
   "cell_type": "markdown",
   "id": "aa0f0d95-5e6b-436f-a971-9486d0841329",
   "metadata": {},
   "source": [
    "# MASH\n",
    "Summary of [MASH](https://github.com/marbl/Mash) results from project: `[{{ project().name }}]`\n",
    "\n",
    "## Description\n",
    "Fast genome and metagenome distance estimation using MinHash"
   ]
  },
  {
   "cell_type": "code",
   "execution_count": null,
   "id": "d21448bb-afe9-4fdb-b964-2143a0ccd1e4",
   "metadata": {
    "tags": []
   },
   "outputs": [],
   "source": [
    "import pandas as pd\n",
    "from pathlib import Path\n",
    "\n",
    "import warnings\n",
    "warnings.filterwarnings('ignore')\n",
    "\n",
    "#import os\n",
    "import seaborn as sns\n",
    "import matplotlib.pyplot as plt\n",
    "import scipy.cluster.hierarchy as shc\n",
    "from sklearn.cluster import AgglomerativeClustering, KMeans\n",
    "from sklearn.preprocessing import MinMaxScaler\n",
    "import numpy as np\n",
    "#import networkx as nx\n",
    "#import community as community_louvain\n",
    "sns.set_context(\"paper\")\n",
    "\n",
    "\n",
    "def kMeansRes(scaled_data, k, alpha_k=0.02):\n",
    "    '''\n",
    "    # Calculating clusters from https://medium.com/towards-data-science/an-approach-for-choosing-number-of-clusters-for-k-means-c28e614ecb2c\n",
    "    Parameters \n",
    "    ----------\n",
    "    scaled_data: matrix \n",
    "        scaled data. rows are samples and columns are features for clustering\n",
    "    k: int\n",
    "        current k for applying KMeans\n",
    "    alpha_k: float\n",
    "        manually tuned factor that gives penalty to the number of clusters\n",
    "    Returns \n",
    "    -------\n",
    "    scaled_inertia: float\n",
    "        scaled inertia value for current k           \n",
    "    '''\n",
    "    \n",
    "    inertia_o = np.square((scaled_data - scaled_data.mean(axis=0))).sum()\n",
    "    # fit k-means\n",
    "    kmeans = KMeans(n_clusters=k, random_state=0).fit(scaled_data)\n",
    "    scaled_inertia = kmeans.inertia_ / inertia_o + alpha_k * k\n",
    "    return scaled_inertia\n",
    "\n",
    "def chooseBestKforKMeans(scaled_data, k_range):\n",
    "    ans = []\n",
    "    for k in k_range:\n",
    "        scaled_inertia = kMeansRes(scaled_data, k)\n",
    "        ans.append((k, scaled_inertia))\n",
    "    results = pd.DataFrame(ans, columns = ['k','Scaled Inertia']).set_index('k')\n",
    "    if len(results) > 0:\n",
    "        best_k = results.idxmin()[0]\n",
    "    else:\n",
    "        print(\"WARNING: Cannot determine best k, returning k as 1.\")\n",
    "        best_k = 1\n",
    "    return best_k, results"
   ]
  },
  {
   "cell_type": "code",
   "execution_count": null,
   "id": "53fb8b15-379c-4be1-827e-243602f89d95",
   "metadata": {
    "tags": []
   },
   "outputs": [],
   "source": [
    "report_dir = Path(\"../data/external/G1034_20230801/\")"
   ]
  },
  {
   "cell_type": "code",
   "execution_count": null,
   "id": "09a0f726-ade7-4223-b6df-329b077d03ba",
   "metadata": {},
   "outputs": [],
   "source": [
    "df_mash = pd.read_csv(report_dir / 'mash/df_mash.csv', index_col=0)\n",
    "#df_gtdb = pd.read_csv(report_dir / 'tables' / 'df_gtdb_meta.csv', index_col='genome_id')"
   ]
  },
  {
   "cell_type": "markdown",
   "id": "33fe2fa5-060a-471e-a352-229a39948b00",
   "metadata": {},
   "source": [
    "## Hierarchical Clustering based on MASH distances"
   ]
  },
  {
   "cell_type": "code",
   "execution_count": null,
   "id": "8423a2c5-c56c-40f5-9c35-2a757ba0246b",
   "metadata": {},
   "outputs": [],
   "source": [
    "df_mash_corr = df_mash.fillna(0).corr()\n",
    "\n",
    "plt.figure(figsize=(30, 10))\n",
    "#plt.title(\"MASH Distances\", fontsize=20)  # You can adjust the title font size here\n",
    "\n",
    "selected_data = df_mash_corr.copy()\n",
    "clusters = shc.linkage(selected_data, \n",
    "            method='ward', \n",
    "            metric=\"euclidean\",\n",
    "            optimal_ordering=True)\n",
    "shc.dendrogram(Z=clusters, labels=df_mash_corr.index, orientation='left')  # Set orientation to 'left'\n",
    "\n",
    "plt.yticks(fontsize=14)  # Adjust the font size for y-axis ticks (labels) for horizontal dendrogram\n",
    "plt.xticks(fontsize=14)  # Adjust the font size for y-axis ticks (labels) for horizontal dendrogram\n",
    "plt.show()"
   ]
  },
  {
   "cell_type": "markdown",
   "id": "a6fbe25e-532f-42f1-ab05-c18da181ed1b",
   "metadata": {},
   "source": [
    "## Estimate Number of Clusters"
   ]
  },
  {
   "cell_type": "code",
   "execution_count": null,
   "id": "1b28a8db-a2dd-4c45-b799-b950c24decc9",
   "metadata": {},
   "outputs": [],
   "source": [
    "# choose features\n",
    "data_for_clustering = df_mash.copy()\n",
    "data_for_clustering.fillna(0,inplace=True)\n",
    "\n",
    "# create data matrix\n",
    "data_matrix = np.asarray(data_for_clustering).astype(float)\n",
    "data_matrix\n",
    "\n",
    "# scale the data\n",
    "mms = MinMaxScaler()\n",
    "scaled_data = mms.fit_transform(data_matrix)\n",
    "\n",
    "# choose k range\n",
    "if len(df_mash) <= 21:\n",
    "    max_range = len(df_mash) - 1\n",
    "else:\n",
    "    max_range = 20\n",
    "\n",
    "k_range=range(2, max_range)\n",
    "# compute adjusted intertia\n",
    "best_k, results = chooseBestKforKMeans(scaled_data, k_range)\n",
    "\n",
    "# plot the results\n",
    "plt.figure(figsize=(7,4))\n",
    "plt.plot(results,'o')\n",
    "plt.title('Adjusted Inertia for each K')\n",
    "plt.xlabel('K')\n",
    "plt.ylabel('Adjusted Inertia')\n",
    "plt.xticks(range(2,max_range,1))\n",
    "print(f\"Estimated number of clusters: {best_k}\")\n",
    "plt.show()"
   ]
  },
  {
   "cell_type": "markdown",
   "id": "61e5797f-a2f4-4bf0-8be9-1529f0b3192c",
   "metadata": {},
   "source": [
    "## MASH Clustermap"
   ]
  },
  {
   "cell_type": "code",
   "execution_count": null,
   "id": "d826fec9-ee29-46ff-b4cb-1b9e3e8e1121",
   "metadata": {},
   "outputs": [],
   "source": [
    "n_clusters = best_k\n",
    "\n",
    "# max color 12\n",
    "if best_k < 12:\n",
    "    top_clusters = best_k\n",
    "else:\n",
    "    top_clusters = 12\n",
    "\n",
    "Agg_hc = AgglomerativeClustering(n_clusters = n_clusters, affinity = 'euclidean', linkage = 'ward')\n",
    "y_hc = Agg_hc.fit_predict(df_mash_corr)\n",
    "color_set3 = ['#8dd3c7','#ffffb3','#bebada','#fb8072','#80b1d3','#fdb462','#b3de69','#fccde5','#d9d9d9','#bc80bd','#ccebc5','#ffed6f']\n",
    "\n",
    "df_hclusts = pd.DataFrame(index=df_mash_corr.index, columns=['hcluster', 'color_code'])\n",
    "df_hclusts['hcluster'] = y_hc\n",
    "top_clusters = df_hclusts.hcluster.value_counts().index.tolist()[:top_clusters]\n",
    "dict_top_colors = dict(zip(top_clusters, color_set3[:len(top_clusters)]))\n",
    "\n",
    "for genome_id in df_hclusts.index:\n",
    "    cluster_id = df_hclusts.loc[genome_id, 'hcluster']\n",
    "    if cluster_id in top_clusters:\n",
    "        df_hclusts.loc[genome_id, 'color_code'] = dict_top_colors[cluster_id]\n",
    "    else:\n",
    "        df_hclusts.loc[genome_id, 'color_code'] = \"#808080\"\n",
    "        \n",
    "comm_colors = df_hclusts['color_code']\n",
    "plt.figure()\n",
    "\n",
    "\n",
    "# sns.set_theme(color_codes=True)\n",
    "g = sns.clustermap((1 - df_mash)*100,\n",
    "                  figsize=(20,20), row_linkage=clusters, col_linkage=clusters,\n",
    "                  row_colors=comm_colors, col_colors=comm_colors, cmap=\"rocket_r\")\n",
    "g.ax_heatmap.set_xlabel('Genomes', fontsize=18)\n",
    "g.ax_heatmap.set_ylabel('Genomes', fontsize=18)\n",
    "plt.setp(g.ax_heatmap.get_xticklabels(), rotation=90, fontsize=12)  # set rotation and font size for x-axis labels\n",
    "plt.setp(g.ax_heatmap.get_yticklabels(), rotation=0, fontsize=12)  # set font size for y-axis labels\n",
    "\n",
    "# Adjust font size of the colorbar's tick labels\n",
    "cbar = g.cax\n",
    "cbar.set_yticklabels(cbar.get_yticklabels(), fontsize=16)\n",
    "\n",
    "plt.show()"
   ]
  },
  {
   "cell_type": "code",
   "execution_count": null,
   "id": "27df0493-bec8-44dc-93c9-817cb9344dac",
   "metadata": {},
   "outputs": [],
   "source": [
    "df_mash_corr"
   ]
  },
  {
   "cell_type": "code",
   "execution_count": null,
   "id": "56e90ad6-a304-40d5-8584-34cd4120a53b",
   "metadata": {},
   "outputs": [],
   "source": []
  },
  {
   "cell_type": "code",
   "execution_count": null,
   "id": "b3ef9ab9-3918-49d2-9696-a25cc06e08a2",
   "metadata": {},
   "outputs": [],
   "source": [
    "import numpy as np\n",
    "import networkx as nx\n",
    "import community as community_louvain\n",
    "import matplotlib.pyplot as plt\n",
    "\n",
    "# Assuming `dist_matrix` is your MASH distance matrix\n",
    "similarity_matrix = 1 - df_mash\n",
    "\n",
    "# Create a graph from the similarity matrix\n",
    "G = nx.from_pandas_adjacency(similarity_matrix)\n",
    "\n",
    "# Remove edges with weight <= 0.95\n",
    "edges_to_remove = [(u, v) for u, v, data in G.edges(data=True) if data['weight'] <= 0.95]\n",
    "G.remove_edges_from(edges_to_remove)\n",
    "\n",
    "# Use the Louvain method to detect communities\n",
    "partition = community_louvain.best_partition(G)\n",
    "\n",
    "# `partition` is a dictionary where the keys are the nodes and the values are the community IDs\n",
    "pos = nx.spring_layout(G)\n",
    "nx.draw_networkx_nodes(G, pos, cmap=plt.get_cmap('jet'), node_size = 20)\n",
    "nx.draw_networkx_edges(G, pos, alpha=0.5)\n",
    "plt.show()"
   ]
  },
  {
   "cell_type": "code",
   "execution_count": null,
   "id": "a8319f10-05e6-40b1-8050-48f101a1f744",
   "metadata": {},
   "outputs": [],
   "source": [
    "df_louvainn = pd.DataFrame.from_dict({\"Louvainn_partition\" : partition})\n",
    "df_louvainn[\"Louvainn_partition\"].value_counts()"
   ]
  },
  {
   "cell_type": "code",
   "execution_count": null,
   "id": "f8d19d49-e7d2-403c-a7b7-e9d506687998",
   "metadata": {},
   "outputs": [],
   "source": [
    "self_links = [(n, n) for n in G.nodes() if G.has_edge(n, n)]\n",
    "G.remove_edges_from(self_links)\n",
    "pos = nx.spring_layout(G)\n",
    "nx.draw_networkx_nodes(G, pos, cmap=plt.get_cmap('jet'), node_size = 20)\n",
    "nx.draw_networkx_edges(G, pos, alpha=0.5)\n",
    "plt.show()"
   ]
  },
  {
   "cell_type": "code",
   "execution_count": null,
   "id": "e904a995-7fe3-4695-ad51-b666b1d9d5e8",
   "metadata": {},
   "outputs": [],
   "source": [
    "# Use the Louvain method to detect communities\n",
    "partition = community_louvain.best_partition(G)\n",
    "df_louvainn = pd.DataFrame.from_dict({\"Louvainn_partition\" : partition})\n",
    "df_louvainn[\"Louvainn_partition\"].value_counts()"
   ]
  },
  {
   "cell_type": "markdown",
   "id": "4d8fe1ca-30f9-472a-9e01-4e9db61825b8",
   "metadata": {},
   "source": [
    "## References\n",
    "<font size=\"2\">\n",
    "{% for i in project().rule_used['mash']['references'] %}\n",
    "- *{{ i }}*\n",
    "{% endfor %}\n",
    "</font>"
   ]
  }
 ],
 "metadata": {
  "kernelspec": {
   "display_name": "Python 3 (ipykernel)",
   "language": "python",
   "name": "python3"
  },
  "language_info": {
   "codemirror_mode": {
    "name": "ipython",
    "version": 3
   },
   "file_extension": ".py",
   "mimetype": "text/x-python",
   "name": "python",
   "nbconvert_exporter": "python",
   "pygments_lexer": "ipython3",
   "version": "3.9.18"
  }
 },
 "nbformat": 4,
 "nbformat_minor": 5
}
