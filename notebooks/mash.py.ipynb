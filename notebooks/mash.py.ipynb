{
 "cells": [
  {
   "cell_type": "markdown",
   "id": "aa0f0d95-5e6b-436f-a971-9486d0841329",
   "metadata": {},
   "source": [
    "# MASH\n",
    "Summary of [MASH](https://github.com/marbl/Mash) results from project: `[{{ project().name }}]`\n",
    "\n",
    "## Description\n",
    "Fast genome and metagenome distance estimation using MinHash"
   ]
  },
  {
   "cell_type": "code",
   "execution_count": null,
   "id": "d21448bb-afe9-4fdb-b964-2143a0ccd1e4",
   "metadata": {
    "tags": []
   },
   "outputs": [],
   "source": [
    "import pandas as pd\n",
    "from pathlib import Path\n",
    "\n",
    "import warnings\n",
    "warnings.filterwarnings('ignore')\n",
    "\n",
    "#import os\n",
    "import seaborn as sns\n",
    "import matplotlib.pyplot as plt\n",
    "import scipy.cluster.hierarchy as shc\n",
    "from sklearn.cluster import AgglomerativeClustering, KMeans\n",
    "from sklearn.preprocessing import MinMaxScaler\n",
    "import numpy as np\n",
    "import networkx as nx\n",
    "import community as community_louvain\n",
    "import plotly.graph_objects as go\n",
    "sns.set_context(\"paper\")\n",
    "\n",
    "def kMeansRes(scaled_data, k, alpha_k=0.02):\n",
    "    '''\n",
    "    # Calculating clusters from https://medium.com/towards-data-science/an-approach-for-choosing-number-of-clusters-for-k-means-c28e614ecb2c\n",
    "    Parameters \n",
    "    ----------\n",
    "    scaled_data: matrix \n",
    "        scaled data. rows are samples and columns are features for clustering\n",
    "    k: int\n",
    "        current k for applying KMeans\n",
    "    alpha_k: float\n",
    "        manually tuned factor that gives penalty to the number of clusters\n",
    "    Returns \n",
    "    -------\n",
    "    scaled_inertia: float\n",
    "        scaled inertia value for current k           \n",
    "    '''\n",
    "    \n",
    "    inertia_o = np.square((scaled_data - scaled_data.mean(axis=0))).sum()\n",
    "    # fit k-means\n",
    "    kmeans = KMeans(n_clusters=k, random_state=0).fit(scaled_data)\n",
    "    scaled_inertia = kmeans.inertia_ / inertia_o + alpha_k * k\n",
    "    return scaled_inertia\n",
    "\n",
    "def chooseBestKforKMeans(scaled_data, k_range):\n",
    "    ans = []\n",
    "    for k in k_range:\n",
    "        scaled_inertia = kMeansRes(scaled_data, k)\n",
    "        ans.append((k, scaled_inertia))\n",
    "    results = pd.DataFrame(ans, columns = ['k','Scaled Inertia']).set_index('k')\n",
    "    if len(results) > 0:\n",
    "        best_k = results.idxmin()[0]\n",
    "    else:\n",
    "        print(\"WARNING: Cannot determine best k, returning k as 1.\")\n",
    "        best_k = 1\n",
    "    return best_k, results"
   ]
  },
  {
   "cell_type": "code",
   "execution_count": null,
   "id": "cba068ed-96b0-499e-a9f8-d0879537a6e8",
   "metadata": {},
   "outputs": [],
   "source": [
    "def create_edge_trace(Graph, name, showlegend=False, color='#888', width=0.5, opacity=0.8,\n",
    "                      legendgroup=\"edges\", legendgrouptitle_text=\"edges\"):\n",
    "    edge_trace = go.Scatter(\n",
    "        x=[],\n",
    "        y=[],\n",
    "        name=name,\n",
    "        opacity=opacity,\n",
    "        line=dict(width=width,color=color),\n",
    "        hoverinfo='none',\n",
    "        mode='lines',\n",
    "        showlegend=showlegend,\n",
    "        legendgroup=legendgroup,\n",
    "        legendgrouptitle_text=legendgrouptitle_text,)\n",
    "\n",
    "    edges = np.array([edge for edge in Graph.edges() if G.edges[edge][\"relation_type\"] == name])\n",
    "    pos = np.array([Graph.nodes[e]['pos'] for e in edges.flatten()]).reshape(-1, 2)\n",
    "    xs = np.insert(pos[:, 0], np.arange(2, len(pos[:, 0]), 2), None)\n",
    "    ys = np.insert(pos[:, 1], np.arange(2, len(pos[:, 1]), 2), None)\n",
    "    edge_trace['x'] = xs\n",
    "    edge_trace['y'] = ys\n",
    "\n",
    "    return edge_trace\n",
    "\n",
    "def create_node_trace(G, node_trace_category, color, showtextlabel=False, nodesize=10, nodeopacity=0.8, \n",
    "                      nodesymbol=\"circle\", linewidth=1, linecolor=\"black\", textposition=\"top center\", showlegend=False,\n",
    "                     legendgroup=\"nodes\", legendgrouptitle_text=\"nodes\"):\n",
    "    if showtextlabel:\n",
    "        markermode = \"markers+text\"\n",
    "    else:\n",
    "        markermode = \"markers\"\n",
    "    nodes = np.array([node for node in G.nodes() if G.nodes[node][\"node_trace\"] == node_trace_category])\n",
    "    pos = np.array([G.nodes[node]['pos'] for node in nodes.flatten()]).reshape(-1, 2)\n",
    "    xs, ys = pos[:, 0], pos[:, 1]\n",
    "    texts = np.array([G.nodes[node]['text'] for node in nodes])\n",
    "    node_trace = go.Scatter(\n",
    "        x=xs.tolist(),\n",
    "        y=ys.tolist(),\n",
    "        text=texts.tolist(),\n",
    "        textposition=textposition,\n",
    "        mode=markermode,\n",
    "        hoverinfo='text',\n",
    "        name=node_trace_category,\n",
    "        showlegend=showlegend,\n",
    "        legendgroup=legendgroup,\n",
    "        legendgrouptitle_text=legendgrouptitle_text,\n",
    "        marker=dict(\n",
    "            symbol=nodesymbol,\n",
    "            opacity=nodeopacity,\n",
    "            showscale=False,\n",
    "            color=color,\n",
    "            size=nodesize,\n",
    "            line=dict(width=linewidth, color=linecolor)))\n",
    "    return node_trace"
   ]
  },
  {
   "cell_type": "code",
   "execution_count": null,
   "id": "53fb8b15-379c-4be1-827e-243602f89d95",
   "metadata": {
    "tags": []
   },
   "outputs": [],
   "source": [
    "report_dir = Path(\"../data/external/G1034_20230801/\")"
   ]
  },
  {
   "cell_type": "code",
   "execution_count": null,
   "id": "09a0f726-ade7-4223-b6df-329b077d03ba",
   "metadata": {},
   "outputs": [],
   "source": [
    "df_mash = pd.read_csv(report_dir / 'mash/df_mash.csv', index_col=0)"
   ]
  },
  {
   "cell_type": "markdown",
   "id": "33fe2fa5-060a-471e-a352-229a39948b00",
   "metadata": {},
   "source": [
    "## Hierarchical Clustering based on MASH distances"
   ]
  },
  {
   "cell_type": "code",
   "execution_count": null,
   "id": "8423a2c5-c56c-40f5-9c35-2a757ba0246b",
   "metadata": {},
   "outputs": [],
   "source": [
    "df_mash_corr = df_mash.fillna(0).corr()\n",
    "\n",
    "plt.figure(figsize=(30, 10))\n",
    "#plt.title(\"MASH Distances\", fontsize=20)  # You can adjust the title font size here\n",
    "\n",
    "selected_data = df_mash_corr.copy()\n",
    "clusters = shc.linkage(selected_data, \n",
    "            method='ward', \n",
    "            metric=\"euclidean\",\n",
    "            optimal_ordering=True)\n",
    "shc.dendrogram(Z=clusters, labels=df_mash_corr.index, orientation='left')  # Set orientation to 'left'\n",
    "\n",
    "plt.yticks(fontsize=14)  # Adjust the font size for y-axis ticks (labels) for horizontal dendrogram\n",
    "plt.xticks(fontsize=14)  # Adjust the font size for y-axis ticks (labels) for horizontal dendrogram\n",
    "plt.show()"
   ]
  },
  {
   "cell_type": "markdown",
   "id": "a6fbe25e-532f-42f1-ab05-c18da181ed1b",
   "metadata": {},
   "source": [
    "## Estimate Number of Clusters"
   ]
  },
  {
   "cell_type": "code",
   "execution_count": null,
   "id": "1b28a8db-a2dd-4c45-b799-b950c24decc9",
   "metadata": {},
   "outputs": [],
   "source": [
    "# choose features\n",
    "data_for_clustering = df_mash.copy()\n",
    "data_for_clustering.fillna(0,inplace=True)\n",
    "\n",
    "# create data matrix\n",
    "data_matrix = np.asarray(data_for_clustering).astype(float)\n",
    "data_matrix\n",
    "\n",
    "# scale the data\n",
    "mms = MinMaxScaler()\n",
    "scaled_data = mms.fit_transform(data_matrix)\n",
    "\n",
    "# choose k range\n",
    "if len(df_mash) <= 21:\n",
    "    max_range = len(df_mash) - 1\n",
    "else:\n",
    "    max_range = 20\n",
    "\n",
    "k_range=range(2, max_range)\n",
    "# compute adjusted intertia\n",
    "best_k, results = chooseBestKforKMeans(scaled_data, k_range)\n",
    "\n",
    "# plot the results\n",
    "plt.figure(figsize=(7,4))\n",
    "plt.plot(results,'o')\n",
    "plt.title('Adjusted Inertia for each K')\n",
    "plt.xlabel('K')\n",
    "plt.ylabel('Adjusted Inertia')\n",
    "plt.xticks(range(2,max_range,1))\n",
    "print(f\"Estimated number of clusters: {best_k}\")\n",
    "plt.show()"
   ]
  },
  {
   "cell_type": "markdown",
   "id": "61e5797f-a2f4-4bf0-8be9-1529f0b3192c",
   "metadata": {},
   "source": [
    "## MASH Clustermap"
   ]
  },
  {
   "cell_type": "code",
   "execution_count": null,
   "id": "d826fec9-ee29-46ff-b4cb-1b9e3e8e1121",
   "metadata": {},
   "outputs": [],
   "source": [
    "n_clusters = best_k\n",
    "\n",
    "# max color 12\n",
    "if best_k < 12:\n",
    "    top_clusters = best_k\n",
    "else:\n",
    "    top_clusters = 12\n",
    "\n",
    "Agg_hc = AgglomerativeClustering(n_clusters = n_clusters, affinity = 'euclidean', linkage = 'ward')\n",
    "y_hc = Agg_hc.fit_predict(df_mash_corr)\n",
    "color_set3 = ['#8dd3c7','#ffffb3','#bebada','#fb8072','#80b1d3','#fdb462','#b3de69','#fccde5','#d9d9d9','#bc80bd','#ccebc5','#ffed6f']\n",
    "\n",
    "df_hclusts = pd.DataFrame(index=df_mash_corr.index, columns=['hcluster', 'color_code'])\n",
    "df_hclusts['hcluster'] = y_hc\n",
    "top_clusters = df_hclusts.hcluster.value_counts().index.tolist()[:top_clusters]\n",
    "dict_top_colors = dict(zip(top_clusters, color_set3[:len(top_clusters)]))\n",
    "\n",
    "for genome_id in df_hclusts.index:\n",
    "    cluster_id = df_hclusts.loc[genome_id, 'hcluster']\n",
    "    if cluster_id in top_clusters:\n",
    "        df_hclusts.loc[genome_id, 'color_code'] = dict_top_colors[cluster_id]\n",
    "    else:\n",
    "        df_hclusts.loc[genome_id, 'color_code'] = \"#808080\"\n",
    "        \n",
    "comm_colors = df_hclusts['color_code']\n",
    "plt.figure()\n",
    "\n",
    "\n",
    "# sns.set_theme(color_codes=True)\n",
    "g = sns.clustermap((1 - df_mash)*100,\n",
    "                  figsize=(20,20), row_linkage=clusters, col_linkage=clusters,\n",
    "                  row_colors=comm_colors, col_colors=comm_colors, cmap=\"rocket_r\")\n",
    "g.ax_heatmap.set_xlabel('Genomes', fontsize=18)\n",
    "g.ax_heatmap.set_ylabel('Genomes', fontsize=18)\n",
    "plt.setp(g.ax_heatmap.get_xticklabels(), rotation=90, fontsize=12)  # set rotation and font size for x-axis labels\n",
    "plt.setp(g.ax_heatmap.get_yticklabels(), rotation=0, fontsize=12)  # set font size for y-axis labels\n",
    "\n",
    "# Adjust font size of the colorbar's tick labels\n",
    "cbar = g.cax\n",
    "cbar.set_yticklabels(cbar.get_yticklabels(), fontsize=16)\n",
    "\n",
    "plt.show()"
   ]
  },
  {
   "cell_type": "markdown",
   "id": "1a69dae4-56f6-44e4-bfd2-c24a14297f29",
   "metadata": {},
   "source": [
    "## Community Detection"
   ]
  },
  {
   "cell_type": "code",
   "execution_count": null,
   "id": "b3ef9ab9-3918-49d2-9696-a25cc06e08a2",
   "metadata": {},
   "outputs": [],
   "source": [
    "# Set cutoff\n",
    "cut_off = 0.95\n",
    "\n",
    "# Calculate MASH similarity from distance matrix\n",
    "similarity_matrix = 1 - df_mash\n",
    "\n",
    "# Remove edges with weight <= 0.95\n",
    "df_mash_graph = similarity_matrix[similarity_matrix>=cut_off]\n",
    "df_mash_graph.fillna(0, inplace=True)\n",
    "print(df_mash_graph.shape)\n",
    "\n",
    "# Create a graph from the similarity matrix\n",
    "G = nx.from_pandas_adjacency(df=df_mash_graph)\n",
    "print(len(list(nx.connected_components(G))))\n",
    "\n",
    "# remove self links\n",
    "self_links = [(n, n) for n in G.nodes() if G.has_edge(n, n)]\n",
    "G.remove_edges_from(self_links)\n",
    "\n",
    "# Use the Louvain method to detect communities\n",
    "partition = community_louvain.best_partition(G)\n",
    "print('Number of communities detected: ',len(set(partition.values())), ', cutoff:', cut_off)\n",
    "\n",
    "# `partition` is a dictionary where the keys are the nodes and the values are the community IDs\n",
    "pos = nx.spring_layout(G)\n",
    "nx.draw_networkx_nodes(G, pos, cmap=plt.get_cmap('jet'), node_size = 20)\n",
    "nx.draw_networkx_edges(G, pos, alpha=0.5)\n",
    "plt.show()"
   ]
  },
  {
   "cell_type": "markdown",
   "id": "3765e6a0-f0f3-42e4-bae8-67c46ae7fce7",
   "metadata": {},
   "source": [
    "## Visualization\n",
    "### Build Taxonomy Mapping"
   ]
  },
  {
   "cell_type": "code",
   "execution_count": null,
   "id": "e91ddce1-0bdd-4dec-94f5-465472181c70",
   "metadata": {},
   "outputs": [],
   "source": [
    "df_gtdb = pd.read_csv(report_dir / 'tables' / 'df_gtdb_gtdbtk_meta.csv', index_col='genome_id')\n",
    "\n",
    "tax_mapping = {}\n",
    "for k, v in df_gtdb.Organism.to_dict().items():\n",
    "    v = v.split()\n",
    "    if len(v) == 2:\n",
    "        genus, epithet = v\n",
    "        genus = genus.split(\"__\")[-1]\n",
    "        species = \" \".join([genus, epithet]) \n",
    "    else:\n",
    "        print(f\"WARNING: {v}\")\n",
    "    tax_mapping[k] = species"
   ]
  },
  {
   "cell_type": "markdown",
   "id": "94be2dfd-8878-4a72-866c-929827dcfbf8",
   "metadata": {},
   "source": [
    "### Build MASH Species Mapping"
   ]
  },
  {
   "cell_type": "code",
   "execution_count": null,
   "id": "5228a173-0e75-485b-a684-07c52b051df0",
   "metadata": {},
   "outputs": [],
   "source": [
    "df_partition = pd.DataFrame.from_dict({\"MASH_partition_0.95\" : {k:f\"MASH_species_{v}\" for k,v in partition.items()}})\n",
    "df_clusters = df_hclusts.merge(df_partition, left_index=True, right_index=True)\n",
    "df_clusters['hcluster'] = df_clusters['hcluster'].apply(lambda x: f\"hcluster_{str(x)}\")\n",
    "df_clusters"
   ]
  },
  {
   "cell_type": "code",
   "execution_count": null,
   "id": "8f0d27b1-b728-46e9-b6b6-fdaa034b3578",
   "metadata": {},
   "outputs": [],
   "source": [
    "mash_species_color_map = {}\n",
    "ctr = 0\n",
    "for num, k, in enumerate(df_clusters[\"MASH_partition_0.95\"].value_counts().to_dict().keys()):\n",
    "    if ctr + 1 == len(color_set3):\n",
    "        ctr = 0\n",
    "    else:\n",
    "        ctr = ctr + 1\n",
    "    mash_species_color_map[k] = color_set3[ctr]\n",
    "df_clusters['MASH_partition_0.95_color'] = df_clusters['MASH_partition_0.95'].map(mash_species_color_map)\n",
    "df_clusters['Species'] = df_clusters.index.map(tax_mapping)\n",
    "df_clusters['Species'] = [i.split()[0] for i in df_clusters['Species']]\n",
    "df_clusters.Species.value_counts()"
   ]
  },
  {
   "cell_type": "code",
   "execution_count": null,
   "id": "a45b89dc-5c0e-49d5-b972-ce4239763552",
   "metadata": {},
   "outputs": [],
   "source": [
    "df_clusters[df_clusters.Species == 'Unclassified']\n",
    "df_gtdb.loc['NBC_01635']"
   ]
  },
  {
   "cell_type": "code",
   "execution_count": null,
   "id": "6033fd3a-38e8-47cf-87a9-d0e153c46432",
   "metadata": {},
   "outputs": [],
   "source": [
    "df_gtdb.loc['NBC_01245']"
   ]
  },
  {
   "cell_type": "code",
   "execution_count": null,
   "id": "16e657a4-0e30-41c5-bb39-99fe11296c28",
   "metadata": {},
   "outputs": [],
   "source": [
    "grouping_name = \"hcluster\"\n",
    "color_grouping_name = \"color_code\"\n",
    "\n",
    "node_annotation_map = {}\n",
    "for i in df_clusters.index:\n",
    "    group = df_clusters.loc[i, grouping_name]\n",
    "    color = df_clusters.loc[i, color_grouping_name]\n",
    "    symbol = \"circle\"\n",
    "    node_annotation_map[group] = {'color' : color,\n",
    "                                  'node_symbol' : symbol}"
   ]
  },
  {
   "cell_type": "code",
   "execution_count": null,
   "id": "78f05ba7-2879-4b87-a735-0e48707995d1",
   "metadata": {},
   "outputs": [],
   "source": [
    "edge_annotation_map = {'mash' : {'color':'black',\n",
    "                                 'width':0.5}}"
   ]
  },
  {
   "cell_type": "code",
   "execution_count": null,
   "id": "d8f17e94-4df7-4b9c-aab1-1d0a06adb252",
   "metadata": {},
   "outputs": [],
   "source": [
    "traces = []\n",
    "cutoff = cut_off\n",
    "\n",
    "G = nx.from_pandas_adjacency(df_mash)\n",
    "edge_to_remove = [e for e in G.edges if G.edges[e]['weight'] >= 1-cutoff]\n",
    "G.remove_edges_from(edge_to_remove)\n",
    "\n",
    "# define layout options\n",
    "options = {\n",
    "    'prog': 'neato',\n",
    "}\n",
    "pos = nx.nx_agraph.graphviz_layout(G, **options)#, args='-Goverlap=false -Elen=weight')\n",
    "for n, p in pos.items():\n",
    "    G.nodes[n]['pos'] = p\n",
    "    G.nodes[n]['node_trace'] = df_clusters.loc[n, grouping_name]\n",
    "    G.nodes[n]['text'] = f'{n}<br>{tax_mapping[n]}<br>{df_clusters.loc[n, \"MASH_partition_0.95\"]}'\n",
    "\n",
    "weights = []\n",
    "for e in G.edges:\n",
    "    weight = G.edges[e]['weight']\n",
    "    weight = f\"{1-weight:.2f}\"\n",
    "    weights.append(weight)\n",
    "    G.edges[e]['relation_type'] = f'{float(weight):.0%}'\n",
    "\n",
    "weights = sorted(set(weights))\n",
    "\n",
    "x_max, x_min = 1, cutoff\n",
    "y_max, y_min = 3, 0.2\n",
    "x = (y_max - y_min) / (x_max - x_min)\n",
    "c = y_max - (x_max*x)\n",
    "\n",
    "for w in weights:\n",
    "    width = float(w)*x + c\n",
    "    edge_trace = create_edge_trace(G, f'{float(w):.0%}', color='black', width=width, showlegend=True, opacity=0.5,\n",
    "                                   legendgroup=\"MASH distances\", legendgrouptitle_text=\"Similarity\")\n",
    "    traces.append(edge_trace)\n",
    "\n",
    "for trace in df_clusters[grouping_name].unique():\n",
    "    nodeopacity = 0.8\n",
    "    showtextlabel = False\n",
    "    linecolor = None\n",
    "    linewidth = 0.5\n",
    "    textposition=\"middle center\"\n",
    "    node_size = 16\n",
    "    color = node_annotation_map[trace]['color']\n",
    "    node_trace = create_node_trace(G, trace, color, showtextlabel=showtextlabel, \n",
    "                                   nodesymbol=node_annotation_map[trace]['node_symbol'], nodeopacity=nodeopacity, \n",
    "                                   showlegend=True, linecolor=linecolor, linewidth=linewidth, nodesize=node_size,\n",
    "                                   textposition=textposition, legendgroup=\"genomes\", legendgrouptitle_text=grouping_name)\n",
    "    traces.append(node_trace)"
   ]
  },
  {
   "cell_type": "code",
   "execution_count": null,
   "id": "a3c78e1f-f230-4270-9a66-1e828f7554ea",
   "metadata": {},
   "outputs": [],
   "source": [
    "fig = go.Figure(data=traces,\n",
    "                layout=go.Layout(\n",
    "                    paper_bgcolor='rgba(0,0,0,0)',\n",
    "                    plot_bgcolor='white',\n",
    "                    showlegend=True,\n",
    "                    hovermode='closest',\n",
    "                    margin=dict(b=20,l=5,r=5,t=40),\n",
    "                    xaxis=dict(showgrid=False, zeroline=False, showticklabels=False, linecolor='black', mirror=True, linewidth=1),\n",
    "                    yaxis=dict(showgrid=False, zeroline=False, showticklabels=False, linecolor='black', mirror=True, linewidth=1),\n",
    "                    width=1800, height=1700)\n",
    "                )\n",
    "fig = fig.update_layout(legend=dict(\n",
    "    orientation=\"v\"\n",
    "))"
   ]
  },
  {
   "cell_type": "code",
   "execution_count": null,
   "id": "047dd97b-f157-404e-bd60-d848c2ae5a59",
   "metadata": {},
   "outputs": [],
   "source": [
    "outfile_html = Path(f\"../figures/MASH_Group.html\")\n",
    "outfile_html.parent.mkdir(exist_ok=True, parents=True)\n",
    "fig.write_html(outfile_html)"
   ]
  },
  {
   "cell_type": "markdown",
   "id": "b2112c1b-2c2b-4e07-ac53-8b73031400af",
   "metadata": {},
   "source": [
    "## Export supplementary"
   ]
  },
  {
   "cell_type": "code",
   "execution_count": null,
   "id": "02e1b0d7-3a19-42f6-a4a0-ef1c8ba6b670",
   "metadata": {},
   "outputs": [],
   "source": [
    "df_supplementary = pd.read_excel(\"../data/external/103_table_v5.xlsx\")\n",
    "df_supplementary = df_supplementary.merge(df_louvainn, left_on='strain_name', right_on='genome_id').set_index(\"genome_id\")\n",
    "df_supplementary"
   ]
  },
  {
   "cell_type": "code",
   "execution_count": null,
   "id": "c73ef999-f3f6-4e66-a78b-d66ba8124f07",
   "metadata": {},
   "outputs": [],
   "source": [
    "df_gtdbtk = pd.read_csv(\"../data/external/G1034_20230801/tables/gtdbtk.bac120.summary.tsv\", sep=\"\\t\")\n",
    "for i in df_gtdbtk.index:\n",
    "    genome_id = df_gtdbtk.loc[i, \"user_genome\"]\n",
    "    gtdb_species = df_gtdbtk.loc[i, \"classification\"].split(\";\")[-1].split(\"__\")[-1]\n",
    "    df_supplementary.loc[genome_id, \"GTDB_species\"] = gtdb_species\n",
    "for mash_clusters in df_supplementary.Louvainn_partition.unique():\n",
    "    subset = df_supplementary[df_supplementary.Louvainn_partition == mash_clusters]\n",
    "    print(subset.GTDB_species.unique(), subset.Louvainn_partition.unique())"
   ]
  },
  {
   "cell_type": "code",
   "execution_count": null,
   "id": "bf6e4f90-32ad-4594-8e55-9c0b54381e79",
   "metadata": {},
   "outputs": [],
   "source": [
    "df_mash = pd.read_csv(report_dir / 'mash/df_mash.csv', index_col=0)\n",
    "cut_off = 0.95\n",
    "df_mash_sim = 1 - df_mash\n",
    "df_mash_graph = df_mash_sim[df_mash_sim>cut_off]\n",
    "df_mash_graph.fillna(0, inplace=True)\n",
    "print(df_mash_graph.shape)\n",
    "G = nx.from_pandas_adjacency(df=df_mash_graph)\n",
    "print(len(list(nx.connected_components(G))))\n",
    "partition = community_louvain.best_partition(G)\n",
    "print('Number of communities detected: ',len(set(partition.values())), ', cutoff:', cut_off)"
   ]
  },
  {
   "cell_type": "code",
   "execution_count": null,
   "id": "c0db6209-d9c2-49dd-a6c9-04697b4d652a",
   "metadata": {},
   "outputs": [],
   "source": [
    "df_mash = pd.read_csv('df_mash.csv', index_col=0)\n",
    "cut_off = 0.95\n",
    "df_mash_sim = 1 - df_mash\n",
    "df_mash_graph = df_mash_sim[df_mash_sim>cut_off]\n",
    "df_mash_graph.fillna(0, inplace=True)\n",
    "print(df_mash_graph.shape)\n",
    "G = nx.from_pandas_adjacency(df=df_mash_graph)\n",
    "print(len(list(nx.connected_components(G))))\n",
    "partition = community_louvain.best_partition(G)\n",
    "print('Number of communities detected: ',len(set(partition.values())), ', cutoff:', cut_off)"
   ]
  },
  {
   "cell_type": "markdown",
   "id": "4d8fe1ca-30f9-472a-9e01-4e9db61825b8",
   "metadata": {},
   "source": [
    "## References\n",
    "<font size=\"2\">\n",
    "{% for i in project().rule_used['mash']['references'] %}\n",
    "- *{{ i }}*\n",
    "{% endfor %}\n",
    "</font>"
   ]
  }
 ],
 "metadata": {
  "kernelspec": {
   "display_name": "Python 3 (ipykernel)",
   "language": "python",
   "name": "python3"
  },
  "language_info": {
   "codemirror_mode": {
    "name": "ipython",
    "version": 3
   },
   "file_extension": ".py",
   "mimetype": "text/x-python",
   "name": "python",
   "nbconvert_exporter": "python",
   "pygments_lexer": "ipython3",
   "version": "3.9.18"
  }
 },
 "nbformat": 4,
 "nbformat_minor": 5
}
