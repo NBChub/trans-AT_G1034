{
 "cells": [
  {
   "cell_type": "code",
   "execution_count": null,
   "id": "6bd779e4-c9e1-4ba5-8340-664a20b0d398",
   "metadata": {},
   "outputs": [],
   "source": [
    "import pandas as pd\n",
    "from pathlib import Path"
   ]
  },
  {
   "cell_type": "code",
   "execution_count": null,
   "id": "2f3113b3-248e-4984-ba03-5dd46fd958a6",
   "metadata": {},
   "outputs": [],
   "source": [
    "df_samples = pd.read_csv(\"../config/Trans_AT_network_all/samples_curated.csv\")\n",
    "df_samples.shape"
   ]
  },
  {
   "cell_type": "code",
   "execution_count": null,
   "id": "d8b6afcd-5f58-42c2-96c2-ffe4cd2d4c47",
   "metadata": {},
   "outputs": [],
   "source": [
    "df_gtdbtk = pd.read_csv(\"../data/processed/Trans_AT_network_all/tables/df_gtdb_meta.csv\")\n",
    "df_gtdbtk.shape"
   ]
  },
  {
   "cell_type": "code",
   "execution_count": null,
   "id": "103c2f25-f59f-40e2-996b-e2005dcde95e",
   "metadata": {},
   "outputs": [],
   "source": [
    "df_samples_bgc_only = df_samples.copy()\n",
    "df_samples_bgc_only = df_samples_bgc_only.merge(df_gtdbtk, left_on=\"genome_id\", right_on=\"genome_id\").drop(columns=[\"genome_id.1\"])\n",
    "df_samples_bgc_only = df_samples_bgc_only[~df_samples_bgc_only.bgc_id.str.startswith(\"BGC\")]\n",
    "df_samples_bgc_only"
   ]
  },
  {
   "cell_type": "code",
   "execution_count": null,
   "id": "dfec36fe-e2b4-411d-a090-9012b8a2f02e",
   "metadata": {},
   "outputs": [],
   "source": [
    "def combine_genus_species(row, keep_format=False):\n",
    "    if row['Species'] == 's__':\n",
    "        organism = row['Genus'] + ' sp.'\n",
    "    else:\n",
    "        organism = row['Organism']\n",
    "    if keep_format:\n",
    "        return \"s__\" + organism.split(\"__\")[-1]\n",
    "    else:\n",
    "        return organism.split(\"__\")[-1]\n",
    "\n",
    "df_samples_bgc_only['Organism'] = df_samples_bgc_only.apply(combine_genus_species, axis=1)\n",
    "df_samples_bgc_only['Species'] = df_samples_bgc_only.apply(lambda row: combine_genus_species(row, keep_format=True), axis=1)\n",
    "outfile = Path(\"../tables/00_Curated_trans-AT_PKS.csv\")\n",
    "outfile.parent.mkdir(parents=True, exist_ok=True)\n",
    "df_samples_bgc_only.to_csv(outfile, index=False)"
   ]
  },
  {
   "cell_type": "code",
   "execution_count": null,
   "id": "ee0df516-4ce9-45b9-85e6-82467ab2cc75",
   "metadata": {},
   "outputs": [],
   "source": []
  }
 ],
 "metadata": {
  "kernelspec": {
   "display_name": "Python 3 (ipykernel)",
   "language": "python",
   "name": "python3"
  },
  "language_info": {
   "codemirror_mode": {
    "name": "ipython",
    "version": 3
   },
   "file_extension": ".py",
   "mimetype": "text/x-python",
   "name": "python",
   "nbconvert_exporter": "python",
   "pygments_lexer": "ipython3",
   "version": "3.9.18"
  }
 },
 "nbformat": 4,
 "nbformat_minor": 5
}
