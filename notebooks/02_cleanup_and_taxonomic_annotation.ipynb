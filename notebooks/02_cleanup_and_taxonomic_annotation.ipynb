{
 "cells": [
  {
   "cell_type": "code",
   "execution_count": null,
   "id": "a8296e3e-a0b1-4828-a78b-0344b1d5f240",
   "metadata": {},
   "outputs": [],
   "source": [
    "import pandas as pd\n",
    "from pathlib import Path\n",
    "import yaml\n",
    "import shutil"
   ]
  },
  {
   "cell_type": "markdown",
   "id": "70ef4f65-826e-4f7b-a857-55381882ba5b",
   "metadata": {},
   "source": [
    "## Description\n",
    "This notebook is to clean up the dataset"
   ]
  },
  {
   "cell_type": "code",
   "execution_count": null,
   "id": "d4cf9af5-a42f-4614-9f15-7a8bcf6d8961",
   "metadata": {},
   "outputs": [],
   "source": [
    "data_dir = Path(\"../data/external/\")\n",
    "G1034_dir = data_dir / \"G1034_20230801\"\n",
    "samples_all = pd.read_csv(str(data_dir / \"further_filtered_trans_bgcs_selecting_odd_ones_for_removing_v7.csv\"), sep=\";\")"
   ]
  },
  {
   "cell_type": "code",
   "execution_count": null,
   "id": "147e2d1e-ceda-4950-875f-f8b9c36bf7e0",
   "metadata": {},
   "outputs": [],
   "source": [
    "## Remove obsolette duplicates\n",
    "double = samples_all.bgc_id.value_counts().to_dict()\n",
    "samples_double = samples_all[samples_all.bgc_id.isin([i for i in double.keys() if double[i] == 2])].sort_values(\"bgc_id\")\n",
    "id_to_drop = samples_double[samples_double[\"validated-member-of-dataset\"] == \"no\"]\n",
    "samples_all = samples_all.drop(id_to_drop.index)\n",
    "\n",
    "## Remove empty rows\n",
    "null_rows = samples_all[samples_all.isnull().all(axis=1)]\n",
    "samples_all = samples_all.drop(null_rows.index)"
   ]
  },
  {
   "cell_type": "markdown",
   "id": "820e87fd-032d-408b-98ec-b61e376462f3",
   "metadata": {},
   "source": [
    "## Prepare a taxonomy file for all project"
   ]
  },
  {
   "cell_type": "code",
   "execution_count": null,
   "id": "0184988e-22b2-4cfa-8d66-4d2dda95e8e7",
   "metadata": {},
   "outputs": [],
   "source": [
    "gtdb_tax = pd.read_csv(G1034_dir / \"tables/gtdbtk.bac120.summary.tsv\", sep=\"\\t\")\n",
    "gtdb_tax = gtdb_tax[gtdb_tax.user_genome.isin(samples_all.genome_id)]\n",
    "outfile = Path(\"../config/gtdbtk.bac120.summary.tsv\")\n",
    "outfile.parent.mkdir(exist_ok=True, parents=True)\n",
    "gtdb_tax.to_csv(outfile, sep=\"\\t\", index=False)"
   ]
  },
  {
   "cell_type": "markdown",
   "id": "819a6d21-6f71-4ef7-9b66-50464161ebfe",
   "metadata": {},
   "source": [
    "## Create project containing all unfiltered trans-AT PKS"
   ]
  },
  {
   "cell_type": "code",
   "execution_count": null,
   "id": "ab4b9ad5-0c0b-4541-8559-414a210174b2",
   "metadata": {},
   "outputs": [],
   "source": [
    "# clean up curated samples & create a project containing all unfiltered trans-AT PKS\n",
    "samples_all = samples_all.drop(columns=[\"product_x\"]).rename(columns={\"product_y\" : \"product\"})\n",
    "project_name = 'Trans_AT_network_raw'\n",
    "outdir = Path(f\"../config/{project_name}\")\n",
    "outdir.mkdir(exist_ok=True, parents=True)\n",
    "samples_all.to_csv(outdir / \"samples.csv\", index=False)\n",
    "samples_all"
   ]
  },
  {
   "cell_type": "code",
   "execution_count": null,
   "id": "4b26178c-d1ac-4afd-a45c-ee66d1fa2a48",
   "metadata": {},
   "outputs": [],
   "source": [
    "project_config = {'name': project_name,\n",
    "                  'pep_version': '2.1.0',\n",
    "                  'description': f'A selection of BGCs producing {project_name}',\n",
    "                  'gtdb-tax': '../gtdbtk.bac120.summary.tsv',\n",
    "                  'sample_table': 'samples.csv',\n",
    "                  'rules': {'bigslice': False,\n",
    "                            'bigscape': True,\n",
    "                            'query-bigslice': False,\n",
    "                            'clinker': False,\n",
    "                            'interproscan': False,\n",
    "                            'mmseqs2': False}\n",
    "                 }\n",
    "\n",
    "# Write data to a YAML file\n",
    "with open(outdir / 'project_config.yaml', 'w') as yaml_file:\n",
    "    yaml.dump(project_config, yaml_file, default_flow_style=False)\n",
    "\n",
    "print(f\"  - pep: config/{project_name}/project_config.yaml\")"
   ]
  },
  {
   "cell_type": "markdown",
   "id": "25acf043-afab-4461-ac40-098587eb9a38",
   "metadata": {},
   "source": [
    "## Create selected trans-AT PKS sub projects"
   ]
  },
  {
   "cell_type": "code",
   "execution_count": null,
   "id": "4beba94e-2325-4495-b7b2-f13a59c4116d",
   "metadata": {},
   "outputs": [],
   "source": [
    "## Create project containing all curated trans-AT PKS\n",
    "samples_all = samples_all.set_index(\"bgc_id\", drop=False)\n",
    "samples_validated = samples_all[samples_all[\"validated-member-of-dataset\"] == \"yes\"]\n",
    "for item in Path(\"../config/\").glob(\"*\"):\n",
    "    if item.is_dir() and item.stem not in ['Trans_AT_network_all',\n",
    "                                           '.ipynb_checkpoints',\n",
    "                                           'Trans_AT_network_raw',\n",
    "                                          'cycloheximide']:\n",
    "        project_name = item.stem\n",
    "        print(project_name)\n",
    "        df = pd.read_csv(item / 'samples.csv').set_index(\"bgc_id\", drop=False)\n",
    "        df_mibig = df[df.bgc_id.str.startswith(\"BGC\")]\n",
    "        df_non_mibig = df[~df.bgc_id.str.startswith(\"BGC\")]\n",
    "        df_samples = samples_validated.set_index(\"bgc_id\", drop=False).loc[df_non_mibig.index, :]\n",
    "        df_final = pd.concat([df_samples, df_mibig]).set_index(\"bgc_id\", drop=False)\n",
    "        print(df_final.bgc_id.to_list())\n",
    "        for bgc_id in df_final.index:\n",
    "            original_gbk = df.loc[bgc_id, \"gbk_path\"]\n",
    "            original_gbk_path = Path(\"..\") / original_gbk\n",
    "            target_gbk = df_final.loc[bgc_id, \"gbk_path\"].replace(\"data/interim\", \"data/external/G1034_20230801\")\n",
    "            target_gbk_path = Path(\"..\") / target_gbk\n",
    "            assert original_gbk_path.stem == target_gbk_path.stem\n",
    "            if bgc_id.startswith(\"BGC\"):\n",
    "                target_gbk_path = Path(f\"../data/external/MIBIG/{bgc_id}.gbk\")\n",
    "                df_final.loc[bgc_id, \"genome_id\"] = \"unknown\"\n",
    "                df_final.loc[bgc_id, \"validated-member-of-dataset\"] = \"yes\"\n",
    "                # add to raw and curated dataset\n",
    "                for c in df_final.columns:\n",
    "                    samples_all.loc[bgc_id, c] = df_final.loc[bgc_id, c]\n",
    "            target_gbk_path.parent.mkdir(exist_ok=True, parents=True)                \n",
    "            shutil.copy(original_gbk_path, target_gbk_path)\n",
    "            df_final.loc[bgc_id, \"gbk_path\"] = str(target_gbk_path).replace(\"../\", \"\")\n",
    "            df_final.loc[bgc_id, \"project_name\"] = project_name\n",
    "            samples_all.loc[bgc_id, \"gbk_path\"] = df_final.loc[bgc_id, \"gbk_path\"]\n",
    "            samples_all.loc[bgc_id, \"project_name\"] = df_final.loc[bgc_id, \"project_name\"]\n",
    "        print(df_final.bgc_id.to_list())\n",
    "        \n",
    "        outdir = Path(f\"../config/{project_name}\")\n",
    "        outdir.mkdir(exist_ok=True, parents=True)\n",
    "        df_final.to_csv(outdir / \"samples_curated.csv\", index=False)\n",
    "\n",
    "        project_config = {'name': project_name,\n",
    "                  'pep_version': '2.1.0',\n",
    "                  'description': f'A selection of BGCs producing {project_name}',\n",
    "                  'gtdb-tax': '../gtdbtk.bac120.summary.tsv',\n",
    "                  'sample_table': 'samples_curated.csv',\n",
    "                  'rules': {'bigslice': False,\n",
    "                            'bigscape': False,\n",
    "                            'query-bigslice': False,\n",
    "                            'clinker': True,\n",
    "                            'interproscan': False,\n",
    "                            'mmseqs2': True}\n",
    "                 }\n",
    "\n",
    "        # Write data to a YAML file\n",
    "        with open(outdir / 'project_config.yaml', 'w') as yaml_file:\n",
    "            yaml.dump(project_config, yaml_file, default_flow_style=False)\n",
    "\n",
    "        print(f\"  - pep: config/{project_name}/project_config.yaml\")"
   ]
  },
  {
   "cell_type": "code",
   "execution_count": null,
   "id": "c827fbcf-dd3c-438f-8897-642cc2b1d2f7",
   "metadata": {},
   "outputs": [],
   "source": [
    "project_name = 'Trans_AT_network_raw'\n",
    "outdir = Path(f\"../config/{project_name}\")\n",
    "outdir.mkdir(exist_ok=True, parents=True)\n",
    "\n",
    "for i in samples_all.index:\n",
    "    gbk_path = samples_all.loc[i, \"gbk_path\"]\n",
    "    if gbk_path.startswith(\"data/interim\"):\n",
    "        input_file = gbk_path\n",
    "        output_file = gbk_path.replace(\"data/interim/\", \"data/external/G1034_20230801/\")\n",
    "        print(input_file, output_file)\n",
    "        output_file_path = Path(\"..\") / output_file\n",
    "        output_file_path.parent.mkdir(parents=True, exist_ok=True)\n",
    "        shutil.copy(Path(\"..\") / input_file, output_file_path)\n",
    "        samples_all.loc[i, \"gbk_path\"] = output_file\n",
    "samples_all.to_csv(outdir / \"samples_curated.csv\", index=False)        "
   ]
  },
  {
   "cell_type": "markdown",
   "id": "172150de-fa32-426a-8d97-fc19516e188d",
   "metadata": {},
   "source": [
    "## Create project containing all curated trans-AT PKS"
   ]
  },
  {
   "cell_type": "code",
   "execution_count": null,
   "id": "ef782dee-e265-408e-ae6d-0234af21cae3",
   "metadata": {},
   "outputs": [],
   "source": [
    "samples_validated = samples_all[samples_all[\"validated-member-of-dataset\"] == \"yes\"]\n",
    "project_name = 'Trans_AT_network_all'\n",
    "outdir = Path(f\"../config/{project_name}\")\n",
    "outdir.mkdir(exist_ok=True, parents=True)\n",
    "samples_validated.to_csv(outdir / \"samples_curated.csv\", index=False)"
   ]
  },
  {
   "cell_type": "code",
   "execution_count": null,
   "id": "2c0ae9d6-cdba-455d-944a-cdb4836b2107",
   "metadata": {},
   "outputs": [],
   "source": [
    "project_config = {'name': project_name,\n",
    "                  'pep_version': '2.1.0',\n",
    "                  'description': f'A selection of BGCs producing {project_name}',\n",
    "                  'gtdb-tax': '../gtdbtk.bac120.summary.tsv',\n",
    "                  'sample_table': 'samples_curated.csv',\n",
    "                  'rules': {'bigslice': False,\n",
    "                            'bigscape': True,\n",
    "                            'query-bigslice': False,\n",
    "                            'clinker': False,\n",
    "                            'interproscan': False,\n",
    "                            'mmseqs2': False}\n",
    "                 }\n",
    "\n",
    "# Write data to a YAML file\n",
    "with open(outdir / 'project_config.yaml', 'w') as yaml_file:\n",
    "    yaml.dump(project_config, yaml_file, default_flow_style=False)\n",
    "\n",
    "print(f\"  - pep: config/{project_name}/project_config.yaml\")"
   ]
  }
 ],
 "metadata": {
  "kernelspec": {
   "display_name": "Python 3 (ipykernel)",
   "language": "python",
   "name": "python3"
  },
  "language_info": {
   "codemirror_mode": {
    "name": "ipython",
    "version": 3
   },
   "file_extension": ".py",
   "mimetype": "text/x-python",
   "name": "python",
   "nbconvert_exporter": "python",
   "pygments_lexer": "ipython3",
   "version": "3.9.18"
  }
 },
 "nbformat": 4,
 "nbformat_minor": 5
}
