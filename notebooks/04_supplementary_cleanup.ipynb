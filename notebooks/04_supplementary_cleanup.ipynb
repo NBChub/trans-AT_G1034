{
 "cells": [
  {
   "cell_type": "code",
   "execution_count": null,
   "id": "350de00d-d124-40b6-99ba-1f514a26d678",
   "metadata": {},
   "outputs": [],
   "source": [
    "import pandas as pd\n",
    "from pathlib import Path"
   ]
  },
  {
   "cell_type": "markdown",
   "id": "af5fbf83-74d6-4ebb-a066-45bbcdd4c3a7",
   "metadata": {},
   "source": [
    "## Input dataset"
   ]
  },
  {
   "cell_type": "code",
   "execution_count": null,
   "id": "e16f2507-3d28-43ec-bd11-c437c7a8f6c4",
   "metadata": {},
   "outputs": [],
   "source": [
    "df = pd.read_excel(\"../data/external/103_table_v5.xlsx\")\n",
    "df_genomes_meta = pd.read_csv(\"../data/external/df_genomes_meta.csv\")"
   ]
  },
  {
   "cell_type": "markdown",
   "id": "e7f63a32-da0d-4668-bf32-8d68d711da8f",
   "metadata": {},
   "source": [
    "## Statistics"
   ]
  },
  {
   "cell_type": "code",
   "execution_count": null,
   "id": "edbd91f5-ebf5-4d3d-b186-fa199cfaa73a",
   "metadata": {},
   "outputs": [],
   "source": [
    "print(\"Total genera:\", len(df_genomes_meta.genus_gtdb.value_counts()) -1)\n",
    "df_genomes_meta.genus_gtdb.value_counts()"
   ]
  },
  {
   "cell_type": "markdown",
   "id": "9847591f-6786-413c-83c4-e627846eac7e",
   "metadata": {},
   "source": [
    "There are two unassigned genus:"
   ]
  },
  {
   "cell_type": "code",
   "execution_count": null,
   "id": "94a6b9f4-997f-4c8a-8045-e75938be9f63",
   "metadata": {},
   "outputs": [],
   "source": [
    "df_genomes_meta[df_genomes_meta.genus_gtdb == \"g__\"]"
   ]
  },
  {
   "cell_type": "markdown",
   "id": "792438ab-0394-43d0-89d0-b3777c291958",
   "metadata": {},
   "source": [
    "Based on GTDBtk, There are a total of 26 genera + 2 unassigned genus. Making it in total ~28 genera in the dataset."
   ]
  },
  {
   "cell_type": "code",
   "execution_count": null,
   "id": "32dd8728-19cc-4192-a1f8-2bfc8b8921b7",
   "metadata": {},
   "outputs": [],
   "source": [
    "df_g1032 = df_genomes_meta[df_genomes_meta.genus_gtdb != \"g__\"]\n",
    "species_gtdb_identified = df_g1032[df_g1032.species_gtdb != \"s__\"].species_gtdb.value_counts()\n",
    "#species_gtdb_identified"
   ]
  },
  {
   "cell_type": "code",
   "execution_count": null,
   "id": "c70acebb-68eb-46e6-8fe6-76dc04650371",
   "metadata": {},
   "outputs": [],
   "source": [
    "species_mash_identified = df_g1032[~df_g1032.Mash_species.isnull()].Mash_species.value_counts()\n",
    "#species_mash_identified"
   ]
  },
  {
   "cell_type": "code",
   "execution_count": null,
   "id": "7083294b-4166-4b92-8a97-77bc8b321e18",
   "metadata": {},
   "outputs": [],
   "source": [
    "f\"Total species that can be identified: {len(species_gtdb_identified) + len(species_mash_identified)}. Identifided with GTDBtk: {len(species_gtdb_identified)}. Identifided with MASH: {len(species_mash_identified)}. There are {len(df_genomes_meta[df_genomes_meta.genus_gtdb == 'g__'])} genomes that cannot be assigned.\""
   ]
  },
  {
   "cell_type": "markdown",
   "id": "89ce24cd-e224-4566-b716-87f0ccc5d41e",
   "metadata": {},
   "source": [
    "## Cleanup"
   ]
  },
  {
   "cell_type": "code",
   "execution_count": null,
   "id": "7885f8e8-73cb-400e-afc9-6efcd9202d17",
   "metadata": {},
   "outputs": [],
   "source": [
    "species_assignment = df_genomes_meta.loc[:, [\"genome_id\", \"genus_gtdb\", \"species_gtdb\", \"Mash_species\"]]\n",
    "species_assignment['genus_gtdb'] = species_assignment['genus_gtdb'].str.replace('g__', '')\n",
    "species_assignment['species_gtdb'] = species_assignment['species_gtdb'].str.replace('s__', 'sp.')\n",
    "species_assignment[\"assigned_species\"] = \"(\" + species_assignment['Mash_species'].fillna(\"\") + \")\"\n",
    "species_assignment[\"assigned_species\"] = species_assignment['assigned_species'].str.replace(\"()\", \"\")\n",
    "species_assignment['species_gtdb'] = species_assignment['genus_gtdb'] + ' ' + species_assignment['species_gtdb']\n",
    "species_assignment['assigned_species'] = species_assignment['species_gtdb'] + ' ' + species_assignment['assigned_species']\n",
    "species_assignment['assigned_species'] = species_assignment['assigned_species'].str.strip()\n",
    "for idx in df_genomes_meta[df_genomes_meta.genus_gtdb == \"g__\"].index:\n",
    "    species_assignment.loc[idx, 'assigned_species'] = \"N/A\"\n",
    "    species_assignment.loc[idx, 'species_gtdb'] = \"N/A\"\n",
    "    species_assignment.loc[idx, 'genus_gtdb'] = \"N/A\"\n",
    "df_species_assignment = species_assignment.rename(columns={\"Mash_species\" : \"MASH_species\"}).set_index(\"genome_id\")"
   ]
  },
  {
   "cell_type": "code",
   "execution_count": null,
   "id": "cca1ee55-1b9d-4b32-a12e-31d151f8d01d",
   "metadata": {},
   "outputs": [],
   "source": [
    "df_final = df.set_index(\"strain_name\").copy()\n",
    "outfile = Path(\"../tables/Supplementary.xlsx\")\n",
    "outfile.parent.mkdir(exist_ok=True, parents=True)\n",
    "df_final = df_final.merge(df_species_assignment, left_index=True, right_index=True)\n",
    "df_final.to_excel(outfile)\n",
    "#df_final"
   ]
  }
 ],
 "metadata": {
  "kernelspec": {
   "display_name": "Python 3 (ipykernel)",
   "language": "python",
   "name": "python3"
  },
  "language_info": {
   "codemirror_mode": {
    "name": "ipython",
    "version": 3
   },
   "file_extension": ".py",
   "mimetype": "text/x-python",
   "name": "python",
   "nbconvert_exporter": "python",
   "pygments_lexer": "ipython3",
   "version": "3.9.18"
  }
 },
 "nbformat": 4,
 "nbformat_minor": 5
}
