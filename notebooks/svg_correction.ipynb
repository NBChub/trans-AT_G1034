{
 "cells": [
  {
   "cell_type": "code",
   "execution_count": 13,
   "id": "f9f4fdea-7357-4337-8271-a7a3f72f498d",
   "metadata": {},
   "outputs": [],
   "source": [
    "from pathlib import Path"
   ]
  },
  {
   "cell_type": "code",
   "execution_count": 27,
   "id": "407d932c-292f-414b-9fba-5aba0d8a3a85",
   "metadata": {},
   "outputs": [],
   "source": [
    "import json\n",
    "import logging\n",
    "from lxml import etree\n",
    "\n",
    "log_format = \"%(levelname)-8s %(asctime)s   %(message)s\"\n",
    "date_format = \"%d/%m %H:%M:%S\"\n",
    "logging.basicConfig(format=log_format, datefmt=date_format, level=logging.DEBUG)\n",
    "\n",
    "def correct_svg_colors(svg_file, json_file, output_file):\n",
    "    \"\"\"\n",
    "    This function correct the fill color of 'genePolygon' elements in a clinker SVG file\n",
    "    based on a provided color map from a clinker JSON session file.\n",
    "\n",
    "    Parameters:\n",
    "    svg_file (str): The path to the input SVG file.\n",
    "    json_file (str): The path to the JSON file containing the color map.\n",
    "    output_file (str): The path to the output SVG file.\n",
    "    \"\"\"\n",
    "\n",
    "    logging.info('Loading color map from JSON file...')\n",
    "    # Load the color map from the JSON file\n",
    "    with open(json_file, \"r\") as f:\n",
    "        data = json.load(f)\n",
    "\n",
    "    color_map = {}\n",
    "    for group in data[\"groups\"]:\n",
    "        label = group[\"label\"]\n",
    "        colour = group[\"colour\"]\n",
    "        for gene in group[\"genes\"]:\n",
    "            color_map[gene] = {\"colour\" : colour, \"label\" : label}\n",
    "\n",
    "    logging.info('Parsing SVG file...')\n",
    "    # Parse the SVG file\n",
    "    tree = etree.parse(svg_file)\n",
    "\n",
    "    # Get the root of the SVG file\n",
    "    root = tree.getroot()\n",
    "\n",
    "    logging.info('Correcting colors...')\n",
    "    # Iterate over all 'gene' elements\n",
    "    for gene in root.findall(\".//*[@class='gene']\"):\n",
    "        uid = gene.attrib[\"id\"].split(\"gene_\")[-1]\n",
    "        child_element = gene.getchildren()\n",
    "        for child in child_element:\n",
    "            if 'genePolygon' in str(child.attrib[\"class\"]):\n",
    "                color = child.attrib['fill']\n",
    "            if 'geneLabel' in str(child.attrib[\"class\"]):\n",
    "                label = child.text\n",
    "        if color != color_map[uid][\"colour\"]:\n",
    "            # Replace the fill color with the color from the colormap\n",
    "            logging.warning(f\"Color mismatch found in: {uid} {label}\")\n",
    "            for child in child_element:\n",
    "                if 'genePolygon' in str(child.attrib[\"class\"]):\n",
    "                    child.attrib['fill'] = color_map[uid][\"colour\"]\n",
    "\n",
    "    logging.info(f'Writing modified SVG to output file: {output_file}')\n",
    "    # Write the modified tree back to the SVG file\n",
    "    tree.write(output_file)"
   ]
  },
  {
   "cell_type": "code",
   "execution_count": null,
   "id": "d0bdbe26-386f-4f1d-aa80-a3aed9f501bc",
   "metadata": {},
   "outputs": [],
   "source": [
    "input_dir = Path(\"../data/processed/\")\n",
    "projects = [p.stem for p in input_dir.glob(\"*\")]\n",
    "\n",
    "figure_output = Path(\"../figures\")\n",
    "figure_output.mkdir(parents=True, exist_ok=True)\n",
    "\n",
    "for p in projects:\n",
    "    clinker_dir = input_dir / p / \"clinker\"\n",
    "    result = {i.suffix[1:] : str(i) for i in clinker_dir.glob(\"*/clinker*\")}\n",
    "    output_file = figure_output / f\"{p}.svg\"\n",
    "    if \"svg\" in result.keys():\n",
    "        svg_file = result[\"svg\"]\n",
    "        json_file = result[\"json\"]\n",
    "        correct_svg_colors(svg_file, json_file, output_file)"
   ]
  }
 ],
 "metadata": {
  "kernelspec": {
   "display_name": "Python 3 (ipykernel)",
   "language": "python",
   "name": "python3"
  },
  "language_info": {
   "codemirror_mode": {
    "name": "ipython",
    "version": 3
   },
   "file_extension": ".py",
   "mimetype": "text/x-python",
   "name": "python",
   "nbconvert_exporter": "python",
   "pygments_lexer": "ipython3",
   "version": "3.9.18"
  }
 },
 "nbformat": 4,
 "nbformat_minor": 5
}
